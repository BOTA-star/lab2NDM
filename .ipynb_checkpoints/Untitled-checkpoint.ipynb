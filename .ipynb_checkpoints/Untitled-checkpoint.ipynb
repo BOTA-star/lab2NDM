{
 "cells": [
  {
   "cell_type": "code",
   "execution_count": 1,
   "id": "312c4592",
   "metadata": {},
   "outputs": [
    {
     "name": "stdout",
     "output_type": "stream",
     "text": [
      "Alo alo alo\n"
     ]
    }
   ],
   "source": [
    "print(\"Alo alo alo\")"
   ]
  }
 ],
 "metadata": {
  "kernelspec": {
   "display_name": "Python 3 (ipykernel)",
   "language": "python",
   "name": "python3"
  },
  "language_info": {
   "codemirror_mode": {
    "name": "ipython",
    "version": 3
   },
   "file_extension": ".py",
   "mimetype": "text/x-python",
   "name": "python",
   "nbconvert_exporter": "python",
   "pygments_lexer": "ipython3",
   "version": "3.11.1"
  }
 },
 "nbformat": 4,
 "nbformat_minor": 5
}
